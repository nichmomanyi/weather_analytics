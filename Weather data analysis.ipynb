{
 "cells": [
  {
   "cell_type": "code",
   "execution_count": 2,
   "id": "e326fdbb",
   "metadata": {},
   "outputs": [],
   "source": [
    "import numpy as np\n",
    "import pandas as pd\n",
    "import matplotlib.pyplot as plt\n",
    "import seaborn as sns"
   ]
  },
  {
   "cell_type": "markdown",
   "id": "cf609f3b",
   "metadata": {},
   "source": [
    "### The Weather Data set\n",
    "- The weather data set is a time series data set with per-hour information about the weather conditions at a particular location. It records temperature, Dew point temperature, relative humidity, wind speed, visibility and conditions"
   ]
  },
  {
   "cell_type": "code",
   "execution_count": 5,
   "id": "b30c0634",
   "metadata": {},
   "outputs": [
    {
     "data": {
      "text/html": [
       "<div>\n",
       "<style scoped>\n",
       "    .dataframe tbody tr th:only-of-type {\n",
       "        vertical-align: middle;\n",
       "    }\n",
       "\n",
       "    .dataframe tbody tr th {\n",
       "        vertical-align: top;\n",
       "    }\n",
       "\n",
       "    .dataframe thead th {\n",
       "        text-align: right;\n",
       "    }\n",
       "</style>\n",
       "<table border=\"1\" class=\"dataframe\">\n",
       "  <thead>\n",
       "    <tr style=\"text-align: right;\">\n",
       "      <th></th>\n",
       "      <th>Date/Time</th>\n",
       "      <th>Temp_C</th>\n",
       "      <th>Dew Point Temp_C</th>\n",
       "      <th>Rel Hum_%</th>\n",
       "      <th>Wind Speed_km/h</th>\n",
       "      <th>Visibility_km</th>\n",
       "      <th>Press_kPa</th>\n",
       "      <th>Weather</th>\n",
       "    </tr>\n",
       "  </thead>\n",
       "  <tbody>\n",
       "    <tr>\n",
       "      <th>0</th>\n",
       "      <td>1/1/2012 0:00</td>\n",
       "      <td>-1.8</td>\n",
       "      <td>-3.9</td>\n",
       "      <td>86</td>\n",
       "      <td>4</td>\n",
       "      <td>8.0</td>\n",
       "      <td>101.24</td>\n",
       "      <td>Fog</td>\n",
       "    </tr>\n",
       "    <tr>\n",
       "      <th>1</th>\n",
       "      <td>1/1/2012 1:00</td>\n",
       "      <td>-1.8</td>\n",
       "      <td>-3.7</td>\n",
       "      <td>87</td>\n",
       "      <td>4</td>\n",
       "      <td>8.0</td>\n",
       "      <td>101.24</td>\n",
       "      <td>Fog</td>\n",
       "    </tr>\n",
       "    <tr>\n",
       "      <th>2</th>\n",
       "      <td>1/1/2012 2:00</td>\n",
       "      <td>-1.8</td>\n",
       "      <td>-3.4</td>\n",
       "      <td>89</td>\n",
       "      <td>7</td>\n",
       "      <td>4.0</td>\n",
       "      <td>101.26</td>\n",
       "      <td>Freezing Drizzle,Fog</td>\n",
       "    </tr>\n",
       "    <tr>\n",
       "      <th>3</th>\n",
       "      <td>1/1/2012 3:00</td>\n",
       "      <td>-1.5</td>\n",
       "      <td>-3.2</td>\n",
       "      <td>88</td>\n",
       "      <td>6</td>\n",
       "      <td>4.0</td>\n",
       "      <td>101.27</td>\n",
       "      <td>Freezing Drizzle,Fog</td>\n",
       "    </tr>\n",
       "    <tr>\n",
       "      <th>4</th>\n",
       "      <td>1/1/2012 4:00</td>\n",
       "      <td>-1.5</td>\n",
       "      <td>-3.3</td>\n",
       "      <td>88</td>\n",
       "      <td>7</td>\n",
       "      <td>4.8</td>\n",
       "      <td>101.23</td>\n",
       "      <td>Fog</td>\n",
       "    </tr>\n",
       "  </tbody>\n",
       "</table>\n",
       "</div>"
      ],
      "text/plain": [
       "       Date/Time  Temp_C  Dew Point Temp_C  Rel Hum_%  Wind Speed_km/h  \\\n",
       "0  1/1/2012 0:00    -1.8              -3.9         86                4   \n",
       "1  1/1/2012 1:00    -1.8              -3.7         87                4   \n",
       "2  1/1/2012 2:00    -1.8              -3.4         89                7   \n",
       "3  1/1/2012 3:00    -1.5              -3.2         88                6   \n",
       "4  1/1/2012 4:00    -1.5              -3.3         88                7   \n",
       "\n",
       "   Visibility_km  Press_kPa               Weather  \n",
       "0            8.0     101.24                   Fog  \n",
       "1            8.0     101.24                   Fog  \n",
       "2            4.0     101.26  Freezing Drizzle,Fog  \n",
       "3            4.0     101.27  Freezing Drizzle,Fog  \n",
       "4            4.8     101.23                   Fog  "
      ]
     },
     "execution_count": 5,
     "metadata": {},
     "output_type": "execute_result"
    }
   ],
   "source": [
    "data=pd.read_csv('1. Weather Data.csv')\n",
    "data.head()"
   ]
  },
  {
   "cell_type": "code",
   "execution_count": 6,
   "id": "f4dfc96f",
   "metadata": {},
   "outputs": [
    {
     "data": {
      "text/plain": [
       "(8784, 8)"
      ]
     },
     "execution_count": 6,
     "metadata": {},
     "output_type": "execute_result"
    }
   ],
   "source": [
    "data.shape"
   ]
  },
  {
   "cell_type": "code",
   "execution_count": 12,
   "id": "6f8ee77b",
   "metadata": {},
   "outputs": [
    {
     "data": {
      "text/plain": [
       "Index(['Date/Time', 'Temp_C', 'Dew Point Temp_C', 'Rel Hum_%',\n",
       "       'Wind Speed_km/h', 'Visibility_km', 'Press_kPa', 'Weather'],\n",
       "      dtype='object')"
      ]
     },
     "execution_count": 12,
     "metadata": {},
     "output_type": "execute_result"
    }
   ],
   "source": [
    "data.columns"
   ]
  },
  {
   "cell_type": "code",
   "execution_count": 13,
   "id": "af13a4a3",
   "metadata": {},
   "outputs": [
    {
     "data": {
      "text/plain": [
       "Date/Time            object\n",
       "Temp_C              float64\n",
       "Dew Point Temp_C    float64\n",
       "Rel Hum_%             int64\n",
       "Wind Speed_km/h       int64\n",
       "Visibility_km       float64\n",
       "Press_kPa           float64\n",
       "Weather              object\n",
       "dtype: object"
      ]
     },
     "execution_count": 13,
     "metadata": {},
     "output_type": "execute_result"
    }
   ],
   "source": [
    "data.dtypes"
   ]
  },
  {
   "cell_type": "code",
   "execution_count": 18,
   "id": "00c2c7d7",
   "metadata": {},
   "outputs": [
    {
     "data": {
      "text/plain": [
       "array(['Fog', 'Freezing Drizzle,Fog', 'Mostly Cloudy', 'Cloudy', 'Rain',\n",
       "       'Rain Showers', 'Mainly Clear', 'Snow Showers', 'Snow', 'Clear',\n",
       "       'Freezing Rain,Fog', 'Freezing Rain', 'Freezing Drizzle',\n",
       "       'Rain,Snow', 'Moderate Snow', 'Freezing Drizzle,Snow',\n",
       "       'Freezing Rain,Snow Grains', 'Snow,Blowing Snow', 'Freezing Fog',\n",
       "       'Haze', 'Rain,Fog', 'Drizzle,Fog', 'Drizzle',\n",
       "       'Freezing Drizzle,Haze', 'Freezing Rain,Haze', 'Snow,Haze',\n",
       "       'Snow,Fog', 'Snow,Ice Pellets', 'Rain,Haze', 'Thunderstorms,Rain',\n",
       "       'Thunderstorms,Rain Showers', 'Thunderstorms,Heavy Rain Showers',\n",
       "       'Thunderstorms,Rain Showers,Fog', 'Thunderstorms',\n",
       "       'Thunderstorms,Rain,Fog',\n",
       "       'Thunderstorms,Moderate Rain Showers,Fog', 'Rain Showers,Fog',\n",
       "       'Rain Showers,Snow Showers', 'Snow Pellets', 'Rain,Snow,Fog',\n",
       "       'Moderate Rain,Fog', 'Freezing Rain,Ice Pellets,Fog',\n",
       "       'Drizzle,Ice Pellets,Fog', 'Drizzle,Snow', 'Rain,Ice Pellets',\n",
       "       'Drizzle,Snow,Fog', 'Rain,Snow Grains', 'Rain,Snow,Ice Pellets',\n",
       "       'Snow Showers,Fog', 'Moderate Snow,Blowing Snow'], dtype=object)"
      ]
     },
     "execution_count": 18,
     "metadata": {},
     "output_type": "execute_result"
    }
   ],
   "source": [
    "data['Weather'].unique()"
   ]
  },
  {
   "cell_type": "code",
   "execution_count": 19,
   "id": "20015999",
   "metadata": {},
   "outputs": [
    {
     "data": {
      "text/plain": [
       "Date/Time           8784\n",
       "Temp_C               533\n",
       "Dew Point Temp_C     489\n",
       "Rel Hum_%             83\n",
       "Wind Speed_km/h       34\n",
       "Visibility_km         24\n",
       "Press_kPa            518\n",
       "Weather               50\n",
       "dtype: int64"
      ]
     },
     "execution_count": 19,
     "metadata": {},
     "output_type": "execute_result"
    }
   ],
   "source": [
    "data.nunique()"
   ]
  },
  {
   "cell_type": "code",
   "execution_count": 20,
   "id": "2cc30494",
   "metadata": {},
   "outputs": [
    {
     "data": {
      "text/plain": [
       "Date/Time           8784\n",
       "Temp_C              8784\n",
       "Dew Point Temp_C    8784\n",
       "Rel Hum_%           8784\n",
       "Wind Speed_km/h     8784\n",
       "Visibility_km       8784\n",
       "Press_kPa           8784\n",
       "Weather             8784\n",
       "dtype: int64"
      ]
     },
     "execution_count": 20,
     "metadata": {},
     "output_type": "execute_result"
    }
   ],
   "source": [
    "data.count()"
   ]
  },
  {
   "cell_type": "code",
   "execution_count": 24,
   "id": "c5b3ccc4",
   "metadata": {},
   "outputs": [
    {
     "data": {
      "text/plain": [
       "Mainly Clear                               2106\n",
       "Mostly Cloudy                              2069\n",
       "Cloudy                                     1728\n",
       "Clear                                      1326\n",
       "Snow                                        390\n",
       "Rain                                        306\n",
       "Rain Showers                                188\n",
       "Fog                                         150\n",
       "Rain,Fog                                    116\n",
       "Drizzle,Fog                                  80\n",
       "Snow Showers                                 60\n",
       "Drizzle                                      41\n",
       "Snow,Fog                                     37\n",
       "Snow,Blowing Snow                            19\n",
       "Rain,Snow                                    18\n",
       "Thunderstorms,Rain Showers                   16\n",
       "Haze                                         16\n",
       "Drizzle,Snow,Fog                             15\n",
       "Freezing Rain                                14\n",
       "Freezing Drizzle,Snow                        11\n",
       "Freezing Drizzle                              7\n",
       "Snow,Ice Pellets                              6\n",
       "Freezing Drizzle,Fog                          6\n",
       "Snow,Haze                                     5\n",
       "Freezing Fog                                  4\n",
       "Snow Showers,Fog                              4\n",
       "Moderate Snow                                 4\n",
       "Rain,Snow,Ice Pellets                         4\n",
       "Freezing Rain,Fog                             4\n",
       "Freezing Drizzle,Haze                         3\n",
       "Rain,Haze                                     3\n",
       "Thunderstorms,Rain                            3\n",
       "Thunderstorms,Rain Showers,Fog                3\n",
       "Freezing Rain,Haze                            2\n",
       "Drizzle,Snow                                  2\n",
       "Rain Showers,Snow Showers                     2\n",
       "Thunderstorms                                 2\n",
       "Moderate Snow,Blowing Snow                    2\n",
       "Rain Showers,Fog                              1\n",
       "Thunderstorms,Moderate Rain Showers,Fog       1\n",
       "Snow Pellets                                  1\n",
       "Rain,Snow,Fog                                 1\n",
       "Moderate Rain,Fog                             1\n",
       "Freezing Rain,Ice Pellets,Fog                 1\n",
       "Drizzle,Ice Pellets,Fog                       1\n",
       "Thunderstorms,Rain,Fog                        1\n",
       "Rain,Ice Pellets                              1\n",
       "Rain,Snow Grains                              1\n",
       "Thunderstorms,Heavy Rain Showers              1\n",
       "Freezing Rain,Snow Grains                     1\n",
       "Name: Weather, dtype: int64"
      ]
     },
     "execution_count": 24,
     "metadata": {},
     "output_type": "execute_result"
    }
   ],
   "source": [
    "data['Weather'].value_counts()"
   ]
  },
  {
   "cell_type": "code",
   "execution_count": 25,
   "id": "2c1c4358",
   "metadata": {},
   "outputs": [
    {
     "name": "stdout",
     "output_type": "stream",
     "text": [
      "<class 'pandas.core.frame.DataFrame'>\n",
      "RangeIndex: 8784 entries, 0 to 8783\n",
      "Data columns (total 8 columns):\n",
      " #   Column            Non-Null Count  Dtype  \n",
      "---  ------            --------------  -----  \n",
      " 0   Date/Time         8784 non-null   object \n",
      " 1   Temp_C            8784 non-null   float64\n",
      " 2   Dew Point Temp_C  8784 non-null   float64\n",
      " 3   Rel Hum_%         8784 non-null   int64  \n",
      " 4   Wind Speed_km/h   8784 non-null   int64  \n",
      " 5   Visibility_km     8784 non-null   float64\n",
      " 6   Press_kPa         8784 non-null   float64\n",
      " 7   Weather           8784 non-null   object \n",
      "dtypes: float64(4), int64(2), object(2)\n",
      "memory usage: 549.1+ KB\n"
     ]
    }
   ],
   "source": [
    "data.info()"
   ]
  },
  {
   "cell_type": "markdown",
   "id": "dc6b1783",
   "metadata": {},
   "source": [
    "##### Q1. Find all unique 'Wind speed' values in the data"
   ]
  },
  {
   "cell_type": "code",
   "execution_count": 29,
   "id": "3b395e76",
   "metadata": {},
   "outputs": [
    {
     "data": {
      "text/plain": [
       "34"
      ]
     },
     "execution_count": 29,
     "metadata": {},
     "output_type": "execute_result"
    }
   ],
   "source": [
    "data['Wind Speed_km/h'].nunique()"
   ]
  },
  {
   "cell_type": "code",
   "execution_count": 34,
   "id": "bbb243b4",
   "metadata": {},
   "outputs": [
    {
     "data": {
      "text/plain": [
       "array([ 4,  7,  6,  9, 15, 13, 20, 22, 19, 24, 30, 35, 39, 32, 33, 26, 44,\n",
       "       43, 48, 37, 28, 17, 11,  0, 83, 70, 57, 46, 41, 52, 50, 63, 54,  2],\n",
       "      dtype=int64)"
      ]
     },
     "execution_count": 34,
     "metadata": {},
     "output_type": "execute_result"
    }
   ],
   "source": [
    "data['Wind Speed_km/h'].unique()"
   ]
  },
  {
   "cell_type": "markdown",
   "id": "61d9bac1",
   "metadata": {},
   "source": [
    "#### Q2. Find the number of times when the “Weather is exactly Clear”"
   ]
  },
  {
   "cell_type": "code",
   "execution_count": 37,
   "id": "efc5a3cd",
   "metadata": {
    "scrolled": true
   },
   "outputs": [
    {
     "data": {
      "text/plain": [
       "Mainly Clear                               2106\n",
       "Mostly Cloudy                              2069\n",
       "Cloudy                                     1728\n",
       "Clear                                      1326\n",
       "Snow                                        390\n",
       "Rain                                        306\n",
       "Rain Showers                                188\n",
       "Fog                                         150\n",
       "Rain,Fog                                    116\n",
       "Drizzle,Fog                                  80\n",
       "Snow Showers                                 60\n",
       "Drizzle                                      41\n",
       "Snow,Fog                                     37\n",
       "Snow,Blowing Snow                            19\n",
       "Rain,Snow                                    18\n",
       "Thunderstorms,Rain Showers                   16\n",
       "Haze                                         16\n",
       "Drizzle,Snow,Fog                             15\n",
       "Freezing Rain                                14\n",
       "Freezing Drizzle,Snow                        11\n",
       "Freezing Drizzle                              7\n",
       "Snow,Ice Pellets                              6\n",
       "Freezing Drizzle,Fog                          6\n",
       "Snow,Haze                                     5\n",
       "Freezing Fog                                  4\n",
       "Snow Showers,Fog                              4\n",
       "Moderate Snow                                 4\n",
       "Rain,Snow,Ice Pellets                         4\n",
       "Freezing Rain,Fog                             4\n",
       "Freezing Drizzle,Haze                         3\n",
       "Rain,Haze                                     3\n",
       "Thunderstorms,Rain                            3\n",
       "Thunderstorms,Rain Showers,Fog                3\n",
       "Freezing Rain,Haze                            2\n",
       "Drizzle,Snow                                  2\n",
       "Rain Showers,Snow Showers                     2\n",
       "Thunderstorms                                 2\n",
       "Moderate Snow,Blowing Snow                    2\n",
       "Rain Showers,Fog                              1\n",
       "Thunderstorms,Moderate Rain Showers,Fog       1\n",
       "Snow Pellets                                  1\n",
       "Rain,Snow,Fog                                 1\n",
       "Moderate Rain,Fog                             1\n",
       "Freezing Rain,Ice Pellets,Fog                 1\n",
       "Drizzle,Ice Pellets,Fog                       1\n",
       "Thunderstorms,Rain,Fog                        1\n",
       "Rain,Ice Pellets                              1\n",
       "Rain,Snow Grains                              1\n",
       "Thunderstorms,Heavy Rain Showers              1\n",
       "Freezing Rain,Snow Grains                     1\n",
       "Name: Weather, dtype: int64"
      ]
     },
     "execution_count": 37,
     "metadata": {},
     "output_type": "execute_result"
    }
   ],
   "source": [
    "data['Weather'].value_counts()"
   ]
  },
  {
   "cell_type": "code",
   "execution_count": 40,
   "id": "63af7654",
   "metadata": {},
   "outputs": [
    {
     "data": {
      "text/html": [
       "<div>\n",
       "<style scoped>\n",
       "    .dataframe tbody tr th:only-of-type {\n",
       "        vertical-align: middle;\n",
       "    }\n",
       "\n",
       "    .dataframe tbody tr th {\n",
       "        vertical-align: top;\n",
       "    }\n",
       "\n",
       "    .dataframe thead th {\n",
       "        text-align: right;\n",
       "    }\n",
       "</style>\n",
       "<table border=\"1\" class=\"dataframe\">\n",
       "  <thead>\n",
       "    <tr style=\"text-align: right;\">\n",
       "      <th></th>\n",
       "      <th>Date/Time</th>\n",
       "      <th>Temp_C</th>\n",
       "      <th>Dew Point Temp_C</th>\n",
       "      <th>Rel Hum_%</th>\n",
       "      <th>Wind Speed_km/h</th>\n",
       "      <th>Visibility_km</th>\n",
       "      <th>Press_kPa</th>\n",
       "      <th>Weather</th>\n",
       "    </tr>\n",
       "  </thead>\n",
       "  <tbody>\n",
       "    <tr>\n",
       "      <th>67</th>\n",
       "      <td>1/3/2012 19:00</td>\n",
       "      <td>-16.9</td>\n",
       "      <td>-24.8</td>\n",
       "      <td>50</td>\n",
       "      <td>24</td>\n",
       "      <td>25.0</td>\n",
       "      <td>101.74</td>\n",
       "      <td>Clear</td>\n",
       "    </tr>\n",
       "    <tr>\n",
       "      <th>114</th>\n",
       "      <td>1/5/2012 18:00</td>\n",
       "      <td>-7.1</td>\n",
       "      <td>-14.4</td>\n",
       "      <td>56</td>\n",
       "      <td>11</td>\n",
       "      <td>25.0</td>\n",
       "      <td>100.71</td>\n",
       "      <td>Clear</td>\n",
       "    </tr>\n",
       "    <tr>\n",
       "      <th>115</th>\n",
       "      <td>1/5/2012 19:00</td>\n",
       "      <td>-9.2</td>\n",
       "      <td>-15.4</td>\n",
       "      <td>61</td>\n",
       "      <td>7</td>\n",
       "      <td>25.0</td>\n",
       "      <td>100.80</td>\n",
       "      <td>Clear</td>\n",
       "    </tr>\n",
       "    <tr>\n",
       "      <th>116</th>\n",
       "      <td>1/5/2012 20:00</td>\n",
       "      <td>-9.8</td>\n",
       "      <td>-15.7</td>\n",
       "      <td>62</td>\n",
       "      <td>9</td>\n",
       "      <td>25.0</td>\n",
       "      <td>100.83</td>\n",
       "      <td>Clear</td>\n",
       "    </tr>\n",
       "    <tr>\n",
       "      <th>117</th>\n",
       "      <td>1/5/2012 21:00</td>\n",
       "      <td>-9.0</td>\n",
       "      <td>-14.8</td>\n",
       "      <td>63</td>\n",
       "      <td>13</td>\n",
       "      <td>25.0</td>\n",
       "      <td>100.83</td>\n",
       "      <td>Clear</td>\n",
       "    </tr>\n",
       "    <tr>\n",
       "      <th>...</th>\n",
       "      <td>...</td>\n",
       "      <td>...</td>\n",
       "      <td>...</td>\n",
       "      <td>...</td>\n",
       "      <td>...</td>\n",
       "      <td>...</td>\n",
       "      <td>...</td>\n",
       "      <td>...</td>\n",
       "    </tr>\n",
       "    <tr>\n",
       "      <th>8646</th>\n",
       "      <td>12/26/2012 6:00</td>\n",
       "      <td>-13.4</td>\n",
       "      <td>-14.8</td>\n",
       "      <td>89</td>\n",
       "      <td>4</td>\n",
       "      <td>25.0</td>\n",
       "      <td>102.47</td>\n",
       "      <td>Clear</td>\n",
       "    </tr>\n",
       "    <tr>\n",
       "      <th>8698</th>\n",
       "      <td>12/28/2012 10:00</td>\n",
       "      <td>-6.1</td>\n",
       "      <td>-8.6</td>\n",
       "      <td>82</td>\n",
       "      <td>19</td>\n",
       "      <td>24.1</td>\n",
       "      <td>101.27</td>\n",
       "      <td>Clear</td>\n",
       "    </tr>\n",
       "    <tr>\n",
       "      <th>8713</th>\n",
       "      <td>12/29/2012 1:00</td>\n",
       "      <td>-11.9</td>\n",
       "      <td>-13.6</td>\n",
       "      <td>87</td>\n",
       "      <td>11</td>\n",
       "      <td>25.0</td>\n",
       "      <td>101.31</td>\n",
       "      <td>Clear</td>\n",
       "    </tr>\n",
       "    <tr>\n",
       "      <th>8714</th>\n",
       "      <td>12/29/2012 2:00</td>\n",
       "      <td>-11.8</td>\n",
       "      <td>-13.1</td>\n",
       "      <td>90</td>\n",
       "      <td>13</td>\n",
       "      <td>25.0</td>\n",
       "      <td>101.33</td>\n",
       "      <td>Clear</td>\n",
       "    </tr>\n",
       "    <tr>\n",
       "      <th>8756</th>\n",
       "      <td>12/30/2012 20:00</td>\n",
       "      <td>-13.8</td>\n",
       "      <td>-16.5</td>\n",
       "      <td>80</td>\n",
       "      <td>24</td>\n",
       "      <td>25.0</td>\n",
       "      <td>101.52</td>\n",
       "      <td>Clear</td>\n",
       "    </tr>\n",
       "  </tbody>\n",
       "</table>\n",
       "<p>1326 rows × 8 columns</p>\n",
       "</div>"
      ],
      "text/plain": [
       "             Date/Time  Temp_C  Dew Point Temp_C  Rel Hum_%  Wind Speed_km/h  \\\n",
       "67      1/3/2012 19:00   -16.9             -24.8         50               24   \n",
       "114     1/5/2012 18:00    -7.1             -14.4         56               11   \n",
       "115     1/5/2012 19:00    -9.2             -15.4         61                7   \n",
       "116     1/5/2012 20:00    -9.8             -15.7         62                9   \n",
       "117     1/5/2012 21:00    -9.0             -14.8         63               13   \n",
       "...                ...     ...               ...        ...              ...   \n",
       "8646   12/26/2012 6:00   -13.4             -14.8         89                4   \n",
       "8698  12/28/2012 10:00    -6.1              -8.6         82               19   \n",
       "8713   12/29/2012 1:00   -11.9             -13.6         87               11   \n",
       "8714   12/29/2012 2:00   -11.8             -13.1         90               13   \n",
       "8756  12/30/2012 20:00   -13.8             -16.5         80               24   \n",
       "\n",
       "      Visibility_km  Press_kPa Weather  \n",
       "67             25.0     101.74   Clear  \n",
       "114            25.0     100.71   Clear  \n",
       "115            25.0     100.80   Clear  \n",
       "116            25.0     100.83   Clear  \n",
       "117            25.0     100.83   Clear  \n",
       "...             ...        ...     ...  \n",
       "8646           25.0     102.47   Clear  \n",
       "8698           24.1     101.27   Clear  \n",
       "8713           25.0     101.31   Clear  \n",
       "8714           25.0     101.33   Clear  \n",
       "8756           25.0     101.52   Clear  \n",
       "\n",
       "[1326 rows x 8 columns]"
      ]
     },
     "execution_count": 40,
     "metadata": {},
     "output_type": "execute_result"
    }
   ],
   "source": [
    "#Filtering\n",
    "data[data['Weather']=='Clear']"
   ]
  },
  {
   "cell_type": "code",
   "execution_count": 47,
   "id": "c2673086",
   "metadata": {
    "scrolled": true
   },
   "outputs": [
    {
     "data": {
      "text/html": [
       "<div>\n",
       "<style scoped>\n",
       "    .dataframe tbody tr th:only-of-type {\n",
       "        vertical-align: middle;\n",
       "    }\n",
       "\n",
       "    .dataframe tbody tr th {\n",
       "        vertical-align: top;\n",
       "    }\n",
       "\n",
       "    .dataframe thead th {\n",
       "        text-align: right;\n",
       "    }\n",
       "</style>\n",
       "<table border=\"1\" class=\"dataframe\">\n",
       "  <thead>\n",
       "    <tr style=\"text-align: right;\">\n",
       "      <th></th>\n",
       "      <th>Date/Time</th>\n",
       "      <th>Temp_C</th>\n",
       "      <th>Dew Point Temp_C</th>\n",
       "      <th>Rel Hum_%</th>\n",
       "      <th>Wind Speed_km/h</th>\n",
       "      <th>Visibility_km</th>\n",
       "      <th>Press_kPa</th>\n",
       "      <th>Weather</th>\n",
       "    </tr>\n",
       "  </thead>\n",
       "  <tbody>\n",
       "    <tr>\n",
       "      <th>67</th>\n",
       "      <td>1/3/2012 19:00</td>\n",
       "      <td>-16.9</td>\n",
       "      <td>-24.8</td>\n",
       "      <td>50</td>\n",
       "      <td>24</td>\n",
       "      <td>25.0</td>\n",
       "      <td>101.74</td>\n",
       "      <td>Clear</td>\n",
       "    </tr>\n",
       "    <tr>\n",
       "      <th>114</th>\n",
       "      <td>1/5/2012 18:00</td>\n",
       "      <td>-7.1</td>\n",
       "      <td>-14.4</td>\n",
       "      <td>56</td>\n",
       "      <td>11</td>\n",
       "      <td>25.0</td>\n",
       "      <td>100.71</td>\n",
       "      <td>Clear</td>\n",
       "    </tr>\n",
       "    <tr>\n",
       "      <th>115</th>\n",
       "      <td>1/5/2012 19:00</td>\n",
       "      <td>-9.2</td>\n",
       "      <td>-15.4</td>\n",
       "      <td>61</td>\n",
       "      <td>7</td>\n",
       "      <td>25.0</td>\n",
       "      <td>100.80</td>\n",
       "      <td>Clear</td>\n",
       "    </tr>\n",
       "    <tr>\n",
       "      <th>116</th>\n",
       "      <td>1/5/2012 20:00</td>\n",
       "      <td>-9.8</td>\n",
       "      <td>-15.7</td>\n",
       "      <td>62</td>\n",
       "      <td>9</td>\n",
       "      <td>25.0</td>\n",
       "      <td>100.83</td>\n",
       "      <td>Clear</td>\n",
       "    </tr>\n",
       "    <tr>\n",
       "      <th>117</th>\n",
       "      <td>1/5/2012 21:00</td>\n",
       "      <td>-9.0</td>\n",
       "      <td>-14.8</td>\n",
       "      <td>63</td>\n",
       "      <td>13</td>\n",
       "      <td>25.0</td>\n",
       "      <td>100.83</td>\n",
       "      <td>Clear</td>\n",
       "    </tr>\n",
       "    <tr>\n",
       "      <th>...</th>\n",
       "      <td>...</td>\n",
       "      <td>...</td>\n",
       "      <td>...</td>\n",
       "      <td>...</td>\n",
       "      <td>...</td>\n",
       "      <td>...</td>\n",
       "      <td>...</td>\n",
       "      <td>...</td>\n",
       "    </tr>\n",
       "    <tr>\n",
       "      <th>8646</th>\n",
       "      <td>12/26/2012 6:00</td>\n",
       "      <td>-13.4</td>\n",
       "      <td>-14.8</td>\n",
       "      <td>89</td>\n",
       "      <td>4</td>\n",
       "      <td>25.0</td>\n",
       "      <td>102.47</td>\n",
       "      <td>Clear</td>\n",
       "    </tr>\n",
       "    <tr>\n",
       "      <th>8698</th>\n",
       "      <td>12/28/2012 10:00</td>\n",
       "      <td>-6.1</td>\n",
       "      <td>-8.6</td>\n",
       "      <td>82</td>\n",
       "      <td>19</td>\n",
       "      <td>24.1</td>\n",
       "      <td>101.27</td>\n",
       "      <td>Clear</td>\n",
       "    </tr>\n",
       "    <tr>\n",
       "      <th>8713</th>\n",
       "      <td>12/29/2012 1:00</td>\n",
       "      <td>-11.9</td>\n",
       "      <td>-13.6</td>\n",
       "      <td>87</td>\n",
       "      <td>11</td>\n",
       "      <td>25.0</td>\n",
       "      <td>101.31</td>\n",
       "      <td>Clear</td>\n",
       "    </tr>\n",
       "    <tr>\n",
       "      <th>8714</th>\n",
       "      <td>12/29/2012 2:00</td>\n",
       "      <td>-11.8</td>\n",
       "      <td>-13.1</td>\n",
       "      <td>90</td>\n",
       "      <td>13</td>\n",
       "      <td>25.0</td>\n",
       "      <td>101.33</td>\n",
       "      <td>Clear</td>\n",
       "    </tr>\n",
       "    <tr>\n",
       "      <th>8756</th>\n",
       "      <td>12/30/2012 20:00</td>\n",
       "      <td>-13.8</td>\n",
       "      <td>-16.5</td>\n",
       "      <td>80</td>\n",
       "      <td>24</td>\n",
       "      <td>25.0</td>\n",
       "      <td>101.52</td>\n",
       "      <td>Clear</td>\n",
       "    </tr>\n",
       "  </tbody>\n",
       "</table>\n",
       "<p>1326 rows × 8 columns</p>\n",
       "</div>"
      ],
      "text/plain": [
       "             Date/Time  Temp_C  Dew Point Temp_C  Rel Hum_%  Wind Speed_km/h  \\\n",
       "67      1/3/2012 19:00   -16.9             -24.8         50               24   \n",
       "114     1/5/2012 18:00    -7.1             -14.4         56               11   \n",
       "115     1/5/2012 19:00    -9.2             -15.4         61                7   \n",
       "116     1/5/2012 20:00    -9.8             -15.7         62                9   \n",
       "117     1/5/2012 21:00    -9.0             -14.8         63               13   \n",
       "...                ...     ...               ...        ...              ...   \n",
       "8646   12/26/2012 6:00   -13.4             -14.8         89                4   \n",
       "8698  12/28/2012 10:00    -6.1              -8.6         82               19   \n",
       "8713   12/29/2012 1:00   -11.9             -13.6         87               11   \n",
       "8714   12/29/2012 2:00   -11.8             -13.1         90               13   \n",
       "8756  12/30/2012 20:00   -13.8             -16.5         80               24   \n",
       "\n",
       "      Visibility_km  Press_kPa Weather  \n",
       "67             25.0     101.74   Clear  \n",
       "114            25.0     100.71   Clear  \n",
       "115            25.0     100.80   Clear  \n",
       "116            25.0     100.83   Clear  \n",
       "117            25.0     100.83   Clear  \n",
       "...             ...        ...     ...  \n",
       "8646           25.0     102.47   Clear  \n",
       "8698           24.1     101.27   Clear  \n",
       "8713           25.0     101.31   Clear  \n",
       "8714           25.0     101.33   Clear  \n",
       "8756           25.0     101.52   Clear  \n",
       "\n",
       "[1326 rows x 8 columns]"
      ]
     },
     "execution_count": 47,
     "metadata": {},
     "output_type": "execute_result"
    }
   ],
   "source": [
    "data.groupby('Weather').get_group('Clear')"
   ]
  },
  {
   "cell_type": "markdown",
   "id": "ebf8b229",
   "metadata": {},
   "source": [
    "#### Q3. Find the number of times when the “Wind speed was exactly 4 km/h”"
   ]
  },
  {
   "cell_type": "code",
   "execution_count": 52,
   "id": "9249f722",
   "metadata": {
    "scrolled": true
   },
   "outputs": [
    {
     "data": {
      "text/plain": [
       "9     830\n",
       "11    791\n",
       "13    735\n",
       "15    719\n",
       "7     677\n",
       "17    666\n",
       "19    616\n",
       "6     609\n",
       "20    496\n",
       "4     474\n",
       "22    439\n",
       "24    374\n",
       "0     309\n",
       "26    242\n",
       "28    205\n",
       "30    161\n",
       "32    139\n",
       "33     85\n",
       "35     53\n",
       "37     45\n",
       "39     24\n",
       "41     22\n",
       "44     14\n",
       "43     13\n",
       "48     13\n",
       "46     11\n",
       "52      7\n",
       "57      5\n",
       "50      4\n",
       "2       2\n",
       "83      1\n",
       "70      1\n",
       "63      1\n",
       "54      1\n",
       "Name: Wind Speed_km/h, dtype: int64"
      ]
     },
     "execution_count": 52,
     "metadata": {},
     "output_type": "execute_result"
    }
   ],
   "source": [
    "data['Wind Speed_km/h'].value_counts()"
   ]
  },
  {
   "cell_type": "markdown",
   "id": "745791b1",
   "metadata": {},
   "source": [
    "#### Q4. Find all the null values in the data"
   ]
  },
  {
   "cell_type": "code",
   "execution_count": 57,
   "id": "1376fee6",
   "metadata": {
    "scrolled": false
   },
   "outputs": [
    {
     "data": {
      "text/plain": [
       "Date/Time           0\n",
       "Temp_C              0\n",
       "Dew Point Temp_C    0\n",
       "Rel Hum_%           0\n",
       "Wind Speed_km/h     0\n",
       "Visibility_km       0\n",
       "Press_kPa           0\n",
       "Weather             0\n",
       "dtype: int64"
      ]
     },
     "execution_count": 57,
     "metadata": {},
     "output_type": "execute_result"
    }
   ],
   "source": [
    "data.isna().sum()"
   ]
  },
  {
   "cell_type": "markdown",
   "id": "a3d2a175",
   "metadata": {},
   "source": [
    "#### Q5. Rename the column name “Weather” of the data frame to “Weather Condition”"
   ]
  },
  {
   "cell_type": "code",
   "execution_count": 70,
   "id": "2dcd268c",
   "metadata": {},
   "outputs": [
    {
     "data": {
      "text/html": [
       "<div>\n",
       "<style scoped>\n",
       "    .dataframe tbody tr th:only-of-type {\n",
       "        vertical-align: middle;\n",
       "    }\n",
       "\n",
       "    .dataframe tbody tr th {\n",
       "        vertical-align: top;\n",
       "    }\n",
       "\n",
       "    .dataframe thead th {\n",
       "        text-align: right;\n",
       "    }\n",
       "</style>\n",
       "<table border=\"1\" class=\"dataframe\">\n",
       "  <thead>\n",
       "    <tr style=\"text-align: right;\">\n",
       "      <th></th>\n",
       "      <th>Date/Time</th>\n",
       "      <th>Temp_C</th>\n",
       "      <th>Dew Point Temp_C</th>\n",
       "      <th>Rel Hum_%</th>\n",
       "      <th>Wind Speed_km/h</th>\n",
       "      <th>Visibility_km</th>\n",
       "      <th>Press_kPa</th>\n",
       "      <th>Weather</th>\n",
       "    </tr>\n",
       "  </thead>\n",
       "  <tbody>\n",
       "    <tr>\n",
       "      <th>0</th>\n",
       "      <td>1/1/2012 0:00</td>\n",
       "      <td>-1.8</td>\n",
       "      <td>-3.9</td>\n",
       "      <td>86</td>\n",
       "      <td>4</td>\n",
       "      <td>8.0</td>\n",
       "      <td>101.24</td>\n",
       "      <td>Fog</td>\n",
       "    </tr>\n",
       "    <tr>\n",
       "      <th>1</th>\n",
       "      <td>1/1/2012 1:00</td>\n",
       "      <td>-1.8</td>\n",
       "      <td>-3.7</td>\n",
       "      <td>87</td>\n",
       "      <td>4</td>\n",
       "      <td>8.0</td>\n",
       "      <td>101.24</td>\n",
       "      <td>Fog</td>\n",
       "    </tr>\n",
       "    <tr>\n",
       "      <th>2</th>\n",
       "      <td>1/1/2012 2:00</td>\n",
       "      <td>-1.8</td>\n",
       "      <td>-3.4</td>\n",
       "      <td>89</td>\n",
       "      <td>7</td>\n",
       "      <td>4.0</td>\n",
       "      <td>101.26</td>\n",
       "      <td>Freezing Drizzle,Fog</td>\n",
       "    </tr>\n",
       "    <tr>\n",
       "      <th>3</th>\n",
       "      <td>1/1/2012 3:00</td>\n",
       "      <td>-1.5</td>\n",
       "      <td>-3.2</td>\n",
       "      <td>88</td>\n",
       "      <td>6</td>\n",
       "      <td>4.0</td>\n",
       "      <td>101.27</td>\n",
       "      <td>Freezing Drizzle,Fog</td>\n",
       "    </tr>\n",
       "    <tr>\n",
       "      <th>4</th>\n",
       "      <td>1/1/2012 4:00</td>\n",
       "      <td>-1.5</td>\n",
       "      <td>-3.3</td>\n",
       "      <td>88</td>\n",
       "      <td>7</td>\n",
       "      <td>4.8</td>\n",
       "      <td>101.23</td>\n",
       "      <td>Fog</td>\n",
       "    </tr>\n",
       "  </tbody>\n",
       "</table>\n",
       "</div>"
      ],
      "text/plain": [
       "       Date/Time  Temp_C  Dew Point Temp_C  Rel Hum_%  Wind Speed_km/h  \\\n",
       "0  1/1/2012 0:00    -1.8              -3.9         86                4   \n",
       "1  1/1/2012 1:00    -1.8              -3.7         87                4   \n",
       "2  1/1/2012 2:00    -1.8              -3.4         89                7   \n",
       "3  1/1/2012 3:00    -1.5              -3.2         88                6   \n",
       "4  1/1/2012 4:00    -1.5              -3.3         88                7   \n",
       "\n",
       "   Visibility_km  Press_kPa               Weather  \n",
       "0            8.0     101.24                   Fog  \n",
       "1            8.0     101.24                   Fog  \n",
       "2            4.0     101.26  Freezing Drizzle,Fog  \n",
       "3            4.0     101.27  Freezing Drizzle,Fog  \n",
       "4            4.8     101.23                   Fog  "
      ]
     },
     "execution_count": 70,
     "metadata": {},
     "output_type": "execute_result"
    }
   ],
   "source": [
    "data.head()"
   ]
  },
  {
   "cell_type": "code",
   "execution_count": 73,
   "id": "ed39dd94",
   "metadata": {
    "scrolled": true
   },
   "outputs": [
    {
     "data": {
      "text/html": [
       "<div>\n",
       "<style scoped>\n",
       "    .dataframe tbody tr th:only-of-type {\n",
       "        vertical-align: middle;\n",
       "    }\n",
       "\n",
       "    .dataframe tbody tr th {\n",
       "        vertical-align: top;\n",
       "    }\n",
       "\n",
       "    .dataframe thead th {\n",
       "        text-align: right;\n",
       "    }\n",
       "</style>\n",
       "<table border=\"1\" class=\"dataframe\">\n",
       "  <thead>\n",
       "    <tr style=\"text-align: right;\">\n",
       "      <th></th>\n",
       "      <th>Date/Time</th>\n",
       "      <th>Temp_C</th>\n",
       "      <th>Dew Point Temp_C</th>\n",
       "      <th>Rel Hum_%</th>\n",
       "      <th>Wind Speed_km/h</th>\n",
       "      <th>Visibility_km</th>\n",
       "      <th>Press_kPa</th>\n",
       "      <th>Weather Condition</th>\n",
       "    </tr>\n",
       "  </thead>\n",
       "  <tbody>\n",
       "    <tr>\n",
       "      <th>0</th>\n",
       "      <td>1/1/2012 0:00</td>\n",
       "      <td>-1.8</td>\n",
       "      <td>-3.9</td>\n",
       "      <td>86</td>\n",
       "      <td>4</td>\n",
       "      <td>8.0</td>\n",
       "      <td>101.24</td>\n",
       "      <td>Fog</td>\n",
       "    </tr>\n",
       "    <tr>\n",
       "      <th>1</th>\n",
       "      <td>1/1/2012 1:00</td>\n",
       "      <td>-1.8</td>\n",
       "      <td>-3.7</td>\n",
       "      <td>87</td>\n",
       "      <td>4</td>\n",
       "      <td>8.0</td>\n",
       "      <td>101.24</td>\n",
       "      <td>Fog</td>\n",
       "    </tr>\n",
       "    <tr>\n",
       "      <th>2</th>\n",
       "      <td>1/1/2012 2:00</td>\n",
       "      <td>-1.8</td>\n",
       "      <td>-3.4</td>\n",
       "      <td>89</td>\n",
       "      <td>7</td>\n",
       "      <td>4.0</td>\n",
       "      <td>101.26</td>\n",
       "      <td>Freezing Drizzle,Fog</td>\n",
       "    </tr>\n",
       "  </tbody>\n",
       "</table>\n",
       "</div>"
      ],
      "text/plain": [
       "       Date/Time  Temp_C  Dew Point Temp_C  Rel Hum_%  Wind Speed_km/h  \\\n",
       "0  1/1/2012 0:00    -1.8              -3.9         86                4   \n",
       "1  1/1/2012 1:00    -1.8              -3.7         87                4   \n",
       "2  1/1/2012 2:00    -1.8              -3.4         89                7   \n",
       "\n",
       "   Visibility_km  Press_kPa     Weather Condition  \n",
       "0            8.0     101.24                   Fog  \n",
       "1            8.0     101.24                   Fog  \n",
       "2            4.0     101.26  Freezing Drizzle,Fog  "
      ]
     },
     "execution_count": 73,
     "metadata": {},
     "output_type": "execute_result"
    }
   ],
   "source": [
    "data.rename(columns={'Weather':'Weather Condition'}, inplace =True)\n",
    "data.head(3)"
   ]
  },
  {
   "cell_type": "markdown",
   "id": "ac9eda0e",
   "metadata": {},
   "source": [
    "#### What is the mean, \"Visibility\""
   ]
  },
  {
   "cell_type": "code",
   "execution_count": 74,
   "id": "430a4f8c",
   "metadata": {},
   "outputs": [
    {
     "data": {
      "text/plain": [
       "27.66444672131151"
      ]
     },
     "execution_count": 74,
     "metadata": {},
     "output_type": "execute_result"
    }
   ],
   "source": [
    "data['Visibility_km'].mean()"
   ]
  },
  {
   "cell_type": "code",
   "execution_count": null,
   "id": "8fd71b16",
   "metadata": {},
   "outputs": [],
   "source": [
    "Whats the standard deviation"
   ]
  }
 ],
 "metadata": {
  "kernelspec": {
   "display_name": "Python 3 (ipykernel)",
   "language": "python",
   "name": "python3"
  },
  "language_info": {
   "codemirror_mode": {
    "name": "ipython",
    "version": 3
   },
   "file_extension": ".py",
   "mimetype": "text/x-python",
   "name": "python",
   "nbconvert_exporter": "python",
   "pygments_lexer": "ipython3",
   "version": "3.9.12"
  }
 },
 "nbformat": 4,
 "nbformat_minor": 5
}
